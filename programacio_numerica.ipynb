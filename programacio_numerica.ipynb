{
 "cells": [
  {
   "attachments": {},
   "cell_type": "markdown",
   "metadata": {},
   "source": [
    "# M3 T01"
   ]
  },
  {
   "cell_type": "code",
   "execution_count": 3,
   "metadata": {},
   "outputs": [],
   "source": [
    "import numpy as np"
   ]
  },
  {
   "attachments": {},
   "cell_type": "markdown",
   "metadata": {},
   "source": [
    "### Exercici 1\n",
    "Crea una funció que donat un Array d’una dimensió, et faci un resum estadístic bàsic de les dades. Si detecta que l’array té més d’una dimensió, ha de mostrar un missatge d’error."
   ]
  },
  {
   "cell_type": "code",
   "execution_count": 6,
   "metadata": {},
   "outputs": [],
   "source": [
    "def estadistiques(vector):\n",
    "    if vector.ndim != 1:\n",
    "        print(\"L'array ha de tenir una sola dimensió\")\n",
    "        return\n",
    "    print(f\"Array: {vector}\")\n",
    "    print(f\"Mitjana: {np.mean(vector)}\")\n",
    "    print(f\"Mediana: {np.median(vector)}\")\n",
    "    print(f\"Valor mínim: {np.amin(vector)}\")\n",
    "    print(f\"Valor màxim: {np.amax(vector)}\")\n",
    "    print(f\"Rang: {np.ptp(vector)}\")\n",
    "    print(f\"Variança: {np.var(vector)}\")\n",
    "    print(f\"Desviació estàndart: {np.std(vector)}\")\n",
    "    \n",
    "    "
   ]
  },
  {
   "cell_type": "code",
   "execution_count": 5,
   "metadata": {},
   "outputs": [
    {
     "name": "stdout",
     "output_type": "stream",
     "text": [
      "Array: [ 5 25  9  4 30 48 12]\n",
      "Mitjana: 19.0\n",
      "Mediana: 12.0\n",
      "Valor mínim: 4\n",
      "Valor màxim: 48\n",
      "Rang: 44\n",
      "Variança: 224.0\n",
      "Desviació estàndart: 14.966629547095765\n"
     ]
    }
   ],
   "source": [
    "## Cel·la per provar la funciò anterior\n",
    "estadistiques(np.array([5, 25, 9, 4, 30, 48, 12]))"
   ]
  },
  {
   "attachments": {},
   "cell_type": "markdown",
   "metadata": {},
   "source": [
    "### Exercici 2\n",
    "Crea una funció que et generi un quadrat NxN de nombres aleatoris entre el 0 i el 100."
   ]
  },
  {
   "cell_type": "code",
   "execution_count": 10,
   "metadata": {},
   "outputs": [],
   "source": [
    "def quadrat_aleatori(size):\n",
    "    if not isinstance(size, int) or size < 0:\n",
    "        print(\"El tamany ha de ser un enter positiu\")\n",
    "        return\n",
    "    quadrat=np.random.randint(0, 100, (size, size))\n",
    "    return quadrat"
   ]
  },
  {
   "cell_type": "code",
   "execution_count": 13,
   "metadata": {},
   "outputs": [
    {
     "name": "stdout",
     "output_type": "stream",
     "text": [
      "[[ 8  6 25 11  4]\n",
      " [21 48 98 81 86]\n",
      " [30 10 18 77 91]\n",
      " [60 55 58 37 68]\n",
      " [92 35 92 50 18]]\n"
     ]
    }
   ],
   "source": [
    "#Cel·la per a provar la funció\n",
    "print(quadrat_aleatori(5))"
   ]
  },
  {
   "attachments": {},
   "cell_type": "markdown",
   "metadata": {},
   "source": [
    "### Exercici 3\n",
    "Crea una funció que donada una taula de dues dimensions (NxM), et calculi els totals per fila i els totals per columna."
   ]
  },
  {
   "cell_type": "code",
   "execution_count": 12,
   "metadata": {},
   "outputs": [],
   "source": [
    "def sumar_array(array):\n",
    "    print(f\"L'array proporcionada és:\\n {array}\")\n",
    "    print(f\"Els totals de les sumes per columna son {np.apply_along_axis(sum, 0, array)}\")\n",
    "    print(f\"Els totals de les sumes per files són : {np.apply_along_axis(sum, 1, array)}\")"
   ]
  },
  {
   "cell_type": "code",
   "execution_count": 13,
   "metadata": {},
   "outputs": [
    {
     "name": "stdout",
     "output_type": "stream",
     "text": [
      "L'array proporcionada és:\n",
      " [[55 59 67]\n",
      " [67 19 60]\n",
      " [22 56 74]]\n",
      "Els totals de les sumes per columna son [144 134 201]\n",
      "Els totals de les sumes per files són : [181 146 152]\n"
     ]
    }
   ],
   "source": [
    "# Cel·la per a provar la funció anterior\n",
    "my_array=quadrat_aleatori(3)\n",
    "sumar_array(my_array)"
   ]
  },
  {
   "attachments": {},
   "cell_type": "markdown",
   "metadata": {},
   "source": [
    "### Exercici 4\n",
    "Implementa manualment una funció que calculi el coeficient de correlació. Informa-te'n sobre els seus usos i interpretació."
   ]
  },
  {
   "cell_type": "code",
   "execution_count": 4,
   "metadata": {},
   "outputs": [],
   "source": [
    "def coeficient_correlacio(array_x, array_y):\n",
    "    sumatori_top=0\n",
    "    sumx_bottom=0\n",
    "    sumy_bottom=0\n",
    "    mean_x=np.mean(array_x)\n",
    "    mean_y=np.mean(array_y)\n",
    "    for i in range(len(array_x)):\n",
    "        sumatori_top+=(array_x[i] - mean_x) * (array_y[i] - mean_y)\n",
    "    for element in array_x:\n",
    "        sumx_bottom+=(element - mean_x) ** 2\n",
    "    for element in array_y:\n",
    "        sumy_bottom+=(element - mean_y) ** 2\n",
    "    return sumatori_top / np.sqrt((sumx_bottom * sumy_bottom))"
   ]
  },
  {
   "cell_type": "code",
   "execution_count": 9,
   "metadata": {},
   "outputs": [
    {
     "name": "stdout",
     "output_type": "stream",
     "text": [
      "El coeficient de correlació dels arrays\n",
      " x=[5 4 3] i y=[ 4 12  3]\n",
      " que has calculat és 0.1013606067599229\n",
      " \n",
      "El coeficient de correlació correcte dels arrays\n",
      " x=[5 4 3] i y=[ 4 12  3]\n",
      " és 0.1013606067599229\n"
     ]
    }
   ],
   "source": [
    "# Cel·la per provar la funciò anterior\n",
    "array_x=np.array([5, 4 , 3])\n",
    "array_y=np.array([4 , 12, 3])\n",
    "print(f\"El coeficient de correlació dels arrays\\n x={array_x} i y={array_y}\\n que has calculat és {coeficient_correlacio(array_x, array_y)}\\n \")\n",
    "#Comprovació del resultat\n",
    "print(f\"El coeficient de correlació correcte dels arrays\\n x={array_x} i y={array_y}\\n és {np.corrcoef(array_x, array_y)[0,1]}\")"
   ]
  }
 ],
 "metadata": {
  "kernelspec": {
   "display_name": "con-01",
   "language": "python",
   "name": "python3"
  },
  "language_info": {
   "codemirror_mode": {
    "name": "ipython",
    "version": 3
   },
   "file_extension": ".py",
   "mimetype": "text/x-python",
   "name": "python",
   "nbconvert_exporter": "python",
   "pygments_lexer": "ipython3",
   "version": "3.11.3"
  },
  "orig_nbformat": 4
 },
 "nbformat": 4,
 "nbformat_minor": 2
}
